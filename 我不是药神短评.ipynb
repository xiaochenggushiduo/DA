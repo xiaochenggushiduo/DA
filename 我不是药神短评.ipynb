{
 "cells": [
  {
   "cell_type": "code",
   "execution_count": 2,
   "metadata": {},
   "outputs": [
    {
     "name": "stdout",
     "output_type": "stream",
     "text": [
      "本页采集完毕。\n",
      "本页采集完毕。\n",
      "本页采集完毕。\n",
      "本页采集完毕。\n",
      "本页采集完毕。\n",
      "本页采集完毕。\n",
      "本页采集完毕。\n",
      "本页采集完毕。\n",
      "本页采集完毕。\n",
      "本页采集完毕。\n"
     ]
    }
   ],
   "source": [
    "import requests\n",
    "import re\n",
    "import csv\n",
    "import time\n",
    "\n",
    "\n",
    "def get_one_page(url):\n",
    "   try:\n",
    "       headers = {'User-Agent':'Mozilla/5.0 (Windows NT 10.0; WOW64) AppleWebKit/537.36 (KHTML, like Gecko) Chrome/65.0.3325.146 Safari/537.36'}\n",
    "       response = requests.get(url,headers=headers,timeout=10)\n",
    "       if response.status_code == 200:\n",
    "           # print(response.text)\n",
    "           return response.text\n",
    "       return None\n",
    "   except EOFError as e:\n",
    "       print(e)\n",
    "       return None\n",
    "\n",
    "\n",
    "def parse_one_page(html,info):\n",
    "   info = []\n",
    "   pattern = re.compile(r'div class=\"comment\".*?<a href.*?class=\"\">(.*?)</a>.*?<span class=\"comment-time \" title=\"(.*?)\">.*?</span>.*?<p class=\"\">(.*?)<',re.S)\n",
    "   items = re.findall(pattern,html)\n",
    "   for item in items:\n",
    "       comic = {}\n",
    "       comic['User'] = item[0].strip() #去除两端空格\n",
    "       comic['Time'] = item[1].strip()\n",
    "       comic['Comment'] = item[-1].strip().split()\n",
    "       info.append(comic)\n",
    "   return info\n",
    "\n",
    "\n",
    "def write_to_file(info):\n",
    "    with open('《我不是药神》短评.csv','a',newline='') as f:\n",
    "       fieldnames = ['User','Time','Comment']\n",
    "       writer = csv.DictWriter(f,fieldnames=fieldnames)\n",
    "       writer.writeheader()\n",
    "       try:\n",
    "           writer.writerows(info)\n",
    "       except:\n",
    "           pass\n",
    "\n",
    "\n",
    "def main(start):\n",
    "   info = {}\n",
    "   url = 'https://movie.douban.com/subject/26752088/comments?start=' + str(start) + '&limit=20&sort=new_score&status=P&percent_type='\n",
    "   html = get_one_page(url)\n",
    "   data = parse_one_page(html,info)\n",
    "   write_to_file(data)\n",
    "\n",
    "\n",
    "if __name__ == '__main__':\n",
    "   for i in range(10):\n",
    "       main(i*20)\n",
    "       print('本页采集完毕。') # 采集完一页后的标识\n",
    "       time.sleep(1) # 采集完一页休息一秒"
   ]
  },
  {
   "cell_type": "code",
   "execution_count": null,
   "metadata": {},
   "outputs": [],
   "source": []
  }
 ],
 "metadata": {
  "kernelspec": {
   "display_name": "Python 3",
   "language": "python",
   "name": "python3"
  },
  "language_info": {
   "codemirror_mode": {
    "name": "ipython",
    "version": 3
   },
   "file_extension": ".py",
   "mimetype": "text/x-python",
   "name": "python",
   "nbconvert_exporter": "python",
   "pygments_lexer": "ipython3",
   "version": "3.6.5"
  }
 },
 "nbformat": 4,
 "nbformat_minor": 2
}
